{
 "cells": [
  {
   "cell_type": "code",
   "execution_count": 1,
   "id": "13d8c50d",
   "metadata": {},
   "outputs": [],
   "source": [
    "import numpy as np\n",
    "import pandas as pd\n",
    "import matplotlib.pyplot as plt\n",
    "import seaborn as sns\n",
    "import tensorflow as tf"
   ]
  },
  {
   "cell_type": "code",
   "execution_count": 3,
   "id": "4102e818",
   "metadata": {},
   "outputs": [],
   "source": [
    "data = pd.read_csv('data_v3/train_data_v3.csv', parse_dates=True)"
   ]
  },
  {
   "cell_type": "code",
   "execution_count": 4,
   "id": "39b589a3",
   "metadata": {},
   "outputs": [
    {
     "data": {
      "text/html": [
       "<div>\n",
       "<style scoped>\n",
       "    .dataframe tbody tr th:only-of-type {\n",
       "        vertical-align: middle;\n",
       "    }\n",
       "\n",
       "    .dataframe tbody tr th {\n",
       "        vertical-align: top;\n",
       "    }\n",
       "\n",
       "    .dataframe thead th {\n",
       "        text-align: right;\n",
       "    }\n",
       "</style>\n",
       "<table border=\"1\" class=\"dataframe\">\n",
       "  <thead>\n",
       "    <tr style=\"text-align: right;\">\n",
       "      <th></th>\n",
       "      <th>time</th>\n",
       "      <th>Measure</th>\n",
       "      <th>kWh</th>\n",
       "      <th>label</th>\n",
       "    </tr>\n",
       "  </thead>\n",
       "  <tbody>\n",
       "    <tr>\n",
       "      <th>0</th>\n",
       "      <td>2022-01-03 00:00:00</td>\n",
       "      <td>Mech_Svc_AHU</td>\n",
       "      <td>8.0000</td>\n",
       "      <td>unclassified</td>\n",
       "    </tr>\n",
       "    <tr>\n",
       "      <th>1</th>\n",
       "      <td>2022-01-03 00:00:00</td>\n",
       "      <td>Sub - Main M2</td>\n",
       "      <td>1000.0000</td>\n",
       "      <td>unclassified</td>\n",
       "    </tr>\n",
       "    <tr>\n",
       "      <th>2</th>\n",
       "      <td>2022-01-03 00:00:00</td>\n",
       "      <td>FB1 - Main 1L</td>\n",
       "      <td>26.5000</td>\n",
       "      <td>unclassified</td>\n",
       "    </tr>\n",
       "    <tr>\n",
       "      <th>3</th>\n",
       "      <td>2022-01-03 00:00:00</td>\n",
       "      <td>AB3 - Main 3L</td>\n",
       "      <td>36.7500</td>\n",
       "      <td>Non-production</td>\n",
       "    </tr>\n",
       "    <tr>\n",
       "      <th>4</th>\n",
       "      <td>2022-01-03 00:00:00</td>\n",
       "      <td>Sub - Feeder F04</td>\n",
       "      <td>0.0000</td>\n",
       "      <td>unclassified</td>\n",
       "    </tr>\n",
       "    <tr>\n",
       "      <th>...</th>\n",
       "      <td>...</td>\n",
       "      <td>...</td>\n",
       "      <td>...</td>\n",
       "      <td>...</td>\n",
       "    </tr>\n",
       "    <tr>\n",
       "      <th>652419</th>\n",
       "      <td>2022-11-13 23:45:00</td>\n",
       "      <td>Sub - Feeder F03</td>\n",
       "      <td>22.1250</td>\n",
       "      <td>unclassified</td>\n",
       "    </tr>\n",
       "    <tr>\n",
       "      <th>652420</th>\n",
       "      <td>2022-11-13 23:45:00</td>\n",
       "      <td>Sub - Feeder F04</td>\n",
       "      <td>0.0000</td>\n",
       "      <td>unclassified</td>\n",
       "    </tr>\n",
       "    <tr>\n",
       "      <th>652421</th>\n",
       "      <td>2022-11-13 23:45:00</td>\n",
       "      <td>Paint_AHU</td>\n",
       "      <td>8.2500</td>\n",
       "      <td>unclassified</td>\n",
       "    </tr>\n",
       "    <tr>\n",
       "      <th>652422</th>\n",
       "      <td>2022-11-13 23:45:00</td>\n",
       "      <td>BS4 - Main 4L</td>\n",
       "      <td>47.5000</td>\n",
       "      <td>unclassified</td>\n",
       "    </tr>\n",
       "    <tr>\n",
       "      <th>652423</th>\n",
       "      <td>2022-11-13 23:45:00</td>\n",
       "      <td>AB3 - Main 3R</td>\n",
       "      <td>42.0625</td>\n",
       "      <td>unclassified</td>\n",
       "    </tr>\n",
       "  </tbody>\n",
       "</table>\n",
       "<p>652424 rows × 4 columns</p>\n",
       "</div>"
      ],
      "text/plain": [
       "                       time           Measure        kWh           label\n",
       "0       2022-01-03 00:00:00      Mech_Svc_AHU     8.0000    unclassified\n",
       "1       2022-01-03 00:00:00     Sub - Main M2  1000.0000    unclassified\n",
       "2       2022-01-03 00:00:00     FB1 - Main 1L    26.5000    unclassified\n",
       "3       2022-01-03 00:00:00     AB3 - Main 3L    36.7500  Non-production\n",
       "4       2022-01-03 00:00:00  Sub - Feeder F04     0.0000    unclassified\n",
       "...                     ...               ...        ...             ...\n",
       "652419  2022-11-13 23:45:00  Sub - Feeder F03    22.1250    unclassified\n",
       "652420  2022-11-13 23:45:00  Sub - Feeder F04     0.0000    unclassified\n",
       "652421  2022-11-13 23:45:00         Paint_AHU     8.2500    unclassified\n",
       "652422  2022-11-13 23:45:00     BS4 - Main 4L    47.5000    unclassified\n",
       "652423  2022-11-13 23:45:00     AB3 - Main 3R    42.0625    unclassified\n",
       "\n",
       "[652424 rows x 4 columns]"
      ]
     },
     "execution_count": 4,
     "metadata": {},
     "output_type": "execute_result"
    }
   ],
   "source": [
    "data"
   ]
  },
  {
   "cell_type": "code",
   "execution_count": 7,
   "id": "3e6787f5",
   "metadata": {},
   "outputs": [
    {
     "data": {
      "text/html": [
       "<div>\n",
       "<style scoped>\n",
       "    .dataframe tbody tr th:only-of-type {\n",
       "        vertical-align: middle;\n",
       "    }\n",
       "\n",
       "    .dataframe tbody tr th {\n",
       "        vertical-align: top;\n",
       "    }\n",
       "\n",
       "    .dataframe thead th {\n",
       "        text-align: right;\n",
       "    }\n",
       "</style>\n",
       "<table border=\"1\" class=\"dataframe\">\n",
       "  <thead>\n",
       "    <tr style=\"text-align: right;\">\n",
       "      <th></th>\n",
       "      <th>time</th>\n",
       "      <th>Measure</th>\n",
       "      <th>kWh</th>\n",
       "      <th>label_Non-production</th>\n",
       "      <th>label_Power-down</th>\n",
       "      <th>label_Power-up</th>\n",
       "      <th>label_Production</th>\n",
       "      <th>label_unclassified</th>\n",
       "    </tr>\n",
       "  </thead>\n",
       "  <tbody>\n",
       "    <tr>\n",
       "      <th>0</th>\n",
       "      <td>2022-01-03 00:00:00</td>\n",
       "      <td>Mech_Svc_AHU</td>\n",
       "      <td>8.0000</td>\n",
       "      <td>0</td>\n",
       "      <td>0</td>\n",
       "      <td>0</td>\n",
       "      <td>0</td>\n",
       "      <td>1</td>\n",
       "    </tr>\n",
       "    <tr>\n",
       "      <th>1</th>\n",
       "      <td>2022-01-03 00:00:00</td>\n",
       "      <td>Sub - Main M2</td>\n",
       "      <td>1000.0000</td>\n",
       "      <td>0</td>\n",
       "      <td>0</td>\n",
       "      <td>0</td>\n",
       "      <td>0</td>\n",
       "      <td>1</td>\n",
       "    </tr>\n",
       "    <tr>\n",
       "      <th>2</th>\n",
       "      <td>2022-01-03 00:00:00</td>\n",
       "      <td>FB1 - Main 1L</td>\n",
       "      <td>26.5000</td>\n",
       "      <td>0</td>\n",
       "      <td>0</td>\n",
       "      <td>0</td>\n",
       "      <td>0</td>\n",
       "      <td>1</td>\n",
       "    </tr>\n",
       "    <tr>\n",
       "      <th>3</th>\n",
       "      <td>2022-01-03 00:00:00</td>\n",
       "      <td>AB3 - Main 3L</td>\n",
       "      <td>36.7500</td>\n",
       "      <td>1</td>\n",
       "      <td>0</td>\n",
       "      <td>0</td>\n",
       "      <td>0</td>\n",
       "      <td>0</td>\n",
       "    </tr>\n",
       "    <tr>\n",
       "      <th>4</th>\n",
       "      <td>2022-01-03 00:00:00</td>\n",
       "      <td>Sub - Feeder F04</td>\n",
       "      <td>0.0000</td>\n",
       "      <td>0</td>\n",
       "      <td>0</td>\n",
       "      <td>0</td>\n",
       "      <td>0</td>\n",
       "      <td>1</td>\n",
       "    </tr>\n",
       "    <tr>\n",
       "      <th>...</th>\n",
       "      <td>...</td>\n",
       "      <td>...</td>\n",
       "      <td>...</td>\n",
       "      <td>...</td>\n",
       "      <td>...</td>\n",
       "      <td>...</td>\n",
       "      <td>...</td>\n",
       "      <td>...</td>\n",
       "    </tr>\n",
       "    <tr>\n",
       "      <th>652419</th>\n",
       "      <td>2022-11-13 23:45:00</td>\n",
       "      <td>Sub - Feeder F03</td>\n",
       "      <td>22.1250</td>\n",
       "      <td>0</td>\n",
       "      <td>0</td>\n",
       "      <td>0</td>\n",
       "      <td>0</td>\n",
       "      <td>1</td>\n",
       "    </tr>\n",
       "    <tr>\n",
       "      <th>652420</th>\n",
       "      <td>2022-11-13 23:45:00</td>\n",
       "      <td>Sub - Feeder F04</td>\n",
       "      <td>0.0000</td>\n",
       "      <td>0</td>\n",
       "      <td>0</td>\n",
       "      <td>0</td>\n",
       "      <td>0</td>\n",
       "      <td>1</td>\n",
       "    </tr>\n",
       "    <tr>\n",
       "      <th>652421</th>\n",
       "      <td>2022-11-13 23:45:00</td>\n",
       "      <td>Paint_AHU</td>\n",
       "      <td>8.2500</td>\n",
       "      <td>0</td>\n",
       "      <td>0</td>\n",
       "      <td>0</td>\n",
       "      <td>0</td>\n",
       "      <td>1</td>\n",
       "    </tr>\n",
       "    <tr>\n",
       "      <th>652422</th>\n",
       "      <td>2022-11-13 23:45:00</td>\n",
       "      <td>BS4 - Main 4L</td>\n",
       "      <td>47.5000</td>\n",
       "      <td>0</td>\n",
       "      <td>0</td>\n",
       "      <td>0</td>\n",
       "      <td>0</td>\n",
       "      <td>1</td>\n",
       "    </tr>\n",
       "    <tr>\n",
       "      <th>652423</th>\n",
       "      <td>2022-11-13 23:45:00</td>\n",
       "      <td>AB3 - Main 3R</td>\n",
       "      <td>42.0625</td>\n",
       "      <td>0</td>\n",
       "      <td>0</td>\n",
       "      <td>0</td>\n",
       "      <td>0</td>\n",
       "      <td>1</td>\n",
       "    </tr>\n",
       "  </tbody>\n",
       "</table>\n",
       "<p>652424 rows × 8 columns</p>\n",
       "</div>"
      ],
      "text/plain": [
       "                       time           Measure        kWh  \\\n",
       "0       2022-01-03 00:00:00      Mech_Svc_AHU     8.0000   \n",
       "1       2022-01-03 00:00:00     Sub - Main M2  1000.0000   \n",
       "2       2022-01-03 00:00:00     FB1 - Main 1L    26.5000   \n",
       "3       2022-01-03 00:00:00     AB3 - Main 3L    36.7500   \n",
       "4       2022-01-03 00:00:00  Sub - Feeder F04     0.0000   \n",
       "...                     ...               ...        ...   \n",
       "652419  2022-11-13 23:45:00  Sub - Feeder F03    22.1250   \n",
       "652420  2022-11-13 23:45:00  Sub - Feeder F04     0.0000   \n",
       "652421  2022-11-13 23:45:00         Paint_AHU     8.2500   \n",
       "652422  2022-11-13 23:45:00     BS4 - Main 4L    47.5000   \n",
       "652423  2022-11-13 23:45:00     AB3 - Main 3R    42.0625   \n",
       "\n",
       "        label_Non-production  label_Power-down  label_Power-up  \\\n",
       "0                          0                 0               0   \n",
       "1                          0                 0               0   \n",
       "2                          0                 0               0   \n",
       "3                          1                 0               0   \n",
       "4                          0                 0               0   \n",
       "...                      ...               ...             ...   \n",
       "652419                     0                 0               0   \n",
       "652420                     0                 0               0   \n",
       "652421                     0                 0               0   \n",
       "652422                     0                 0               0   \n",
       "652423                     0                 0               0   \n",
       "\n",
       "        label_Production  label_unclassified  \n",
       "0                      0                   1  \n",
       "1                      0                   1  \n",
       "2                      0                   1  \n",
       "3                      0                   0  \n",
       "4                      0                   1  \n",
       "...                  ...                 ...  \n",
       "652419                 0                   1  \n",
       "652420                 0                   1  \n",
       "652421                 0                   1  \n",
       "652422                 0                   1  \n",
       "652423                 0                   1  \n",
       "\n",
       "[652424 rows x 8 columns]"
      ]
     },
     "execution_count": 7,
     "metadata": {},
     "output_type": "execute_result"
    }
   ],
   "source": [
    "data1 = pd.get_dummies(data, columns=['label'])\n",
    "data1"
   ]
  },
  {
   "cell_type": "code",
   "execution_count": 10,
   "id": "21f27742",
   "metadata": {},
   "outputs": [
    {
     "data": {
      "text/plain": [
       "array(['unclassified', 'Non-production', 'Power-up', 'Production',\n",
       "       'Power-down'], dtype=object)"
      ]
     },
     "execution_count": 10,
     "metadata": {},
     "output_type": "execute_result"
    }
   ],
   "source": [
    "data.label.unique()"
   ]
  },
  {
   "cell_type": "code",
   "execution_count": 11,
   "id": "e95dadb9",
   "metadata": {},
   "outputs": [],
   "source": [
    "d = {'unclassified':0, 'Non-production':1, 'Power-up':2, 'Production':3, 'Power-down':4}"
   ]
  },
  {
   "cell_type": "code",
   "execution_count": 12,
   "id": "4fce8f4f",
   "metadata": {},
   "outputs": [],
   "source": [
    "data.replace({'label': d}, inplace=True)"
   ]
  },
  {
   "cell_type": "code",
   "execution_count": 14,
   "id": "2124645f",
   "metadata": {},
   "outputs": [],
   "source": [
    "X = data1.drop(['time', 'Measure'], axis=1).values.astype('float32')\n",
    "y = data['label'].values.astype('float32')"
   ]
  },
  {
   "cell_type": "code",
   "execution_count": 15,
   "id": "69dd6ad4",
   "metadata": {},
   "outputs": [],
   "source": [
    "from sklearn.model_selection import train_test_split"
   ]
  },
  {
   "cell_type": "code",
   "execution_count": 38,
   "id": "77ad2880",
   "metadata": {},
   "outputs": [],
   "source": [
    "X_train, X_test, y_train, y_test = train_test_split(X, y, test_size=0.45, random_state=101)"
   ]
  },
  {
   "cell_type": "code",
   "execution_count": 39,
   "id": "b69896dc",
   "metadata": {},
   "outputs": [
    {
     "name": "stdout",
     "output_type": "stream",
     "text": [
      "(358833, 6)\n",
      "(358833,)\n"
     ]
    }
   ],
   "source": [
    "print(X_train.shape)\n",
    "print(y_train.shape)"
   ]
  },
  {
   "cell_type": "code",
   "execution_count": 40,
   "id": "9604145f",
   "metadata": {},
   "outputs": [],
   "source": [
    "import tensorflow as tf\n",
    "from tensorflow import keras\n",
    "from tensorflow.keras.models import Sequential\n",
    "from tensorflow.keras.layers import Dropout"
   ]
  },
  {
   "cell_type": "code",
   "execution_count": 42,
   "id": "d0151289",
   "metadata": {},
   "outputs": [
    {
     "name": "stdout",
     "output_type": "stream",
     "text": [
      "Epoch 1/10\n",
      "22428/22428 [==============================] - 22s 953us/step - loss: 0.0000e+00 - accuracy: 0.0534\n",
      "Epoch 2/10\n",
      "22428/22428 [==============================] - 22s 975us/step - loss: 0.0000e+00 - accuracy: 0.0534\n",
      "Epoch 3/10\n",
      "22428/22428 [==============================] - 21s 951us/step - loss: 0.0000e+00 - accuracy: 0.0534\n",
      "Epoch 4/10\n",
      "22428/22428 [==============================] - 23s 1ms/step - loss: 0.0000e+00 - accuracy: 0.0534\n",
      "Epoch 5/10\n",
      "22428/22428 [==============================] - 21s 937us/step - loss: 0.0000e+00 - accuracy: 0.0534\n",
      "Epoch 6/10\n",
      "22428/22428 [==============================] - 20s 902us/step - loss: 0.0000e+00 - accuracy: 0.0534\n",
      "Epoch 7/10\n",
      "22428/22428 [==============================] - 21s 931us/step - loss: 0.0000e+00 - accuracy: 0.0534\n",
      "Epoch 8/10\n",
      "22428/22428 [==============================] - 22s 992us/step - loss: 0.0000e+00 - accuracy: 0.0534\n",
      "Epoch 9/10\n",
      "22428/22428 [==============================] - 22s 1ms/step - loss: 0.0000e+00 - accuracy: 0.0534\n",
      "Epoch 10/10\n",
      "22428/22428 [==============================] - 23s 1ms/step - loss: 0.0000e+00 - accuracy: 0.0534\n"
     ]
    },
    {
     "data": {
      "text/plain": [
       "<keras.callbacks.History at 0x21b5601af50>"
      ]
     },
     "execution_count": 42,
     "metadata": {},
     "output_type": "execute_result"
    }
   ],
   "source": [
    "model = Sequential()\n",
    "model.add(Dense(units=16, activation='relu', input_dim=X_train.shape[1]))\n",
    "model.add(Dropout(0.5))\n",
    "model.add(Dense(units=8, activation='relu'))\n",
    "model.add(Dense(units=4, activation='relu'))\n",
    "model.add(Dense(units=1, activation='softmax'))\n",
    "model.compile(loss='categorical_crossentropy',\n",
    "              optimizer='adam',\n",
    "              metrics=['accuracy'])\n",
    "model.fit(X_train, y_train, epochs=10, batch_size=16)"
   ]
  },
  {
   "cell_type": "code",
   "execution_count": 43,
   "id": "07781f48",
   "metadata": {},
   "outputs": [
    {
     "name": "stdout",
     "output_type": "stream",
     "text": [
      "58719/58719 [==============================] - 48s 809us/step - loss: 0.0000e+00 - accuracy: 0.0530\n",
      "Test loss: 0.0\n",
      "Test accuracy: 0.05296824499964714\n"
     ]
    }
   ],
   "source": [
    "loss, accuracy = model.evaluate(x=X_test, y=y_test, batch_size=5)\n",
    "\n",
    "print(\"Test loss:\", loss)\n",
    "print(\"Test accuracy:\", accuracy)"
   ]
  },
  {
   "cell_type": "code",
   "execution_count": 57,
   "id": "eb4b28ed",
   "metadata": {},
   "outputs": [],
   "source": [
    "final = pd.read_csv('data_v3/holdout_v3.csv', parse_dates=True)"
   ]
  },
  {
   "cell_type": "code",
   "execution_count": 58,
   "id": "8bfca40a",
   "metadata": {},
   "outputs": [
    {
     "data": {
      "text/html": [
       "<div>\n",
       "<style scoped>\n",
       "    .dataframe tbody tr th:only-of-type {\n",
       "        vertical-align: middle;\n",
       "    }\n",
       "\n",
       "    .dataframe tbody tr th {\n",
       "        vertical-align: top;\n",
       "    }\n",
       "\n",
       "    .dataframe thead th {\n",
       "        text-align: right;\n",
       "    }\n",
       "</style>\n",
       "<table border=\"1\" class=\"dataframe\">\n",
       "  <thead>\n",
       "    <tr style=\"text-align: right;\">\n",
       "      <th></th>\n",
       "      <th>time</th>\n",
       "      <th>Measure</th>\n",
       "      <th>kWh</th>\n",
       "      <th>label</th>\n",
       "    </tr>\n",
       "  </thead>\n",
       "  <tbody>\n",
       "    <tr>\n",
       "      <th>0</th>\n",
       "      <td>2020-07-27 00:00:00</td>\n",
       "      <td>Sub - Feeder F08</td>\n",
       "      <td>481.500</td>\n",
       "      <td>Non-production</td>\n",
       "    </tr>\n",
       "    <tr>\n",
       "      <th>1</th>\n",
       "      <td>2020-07-27 00:15:00</td>\n",
       "      <td>Sub - Feeder F08</td>\n",
       "      <td>481.375</td>\n",
       "      <td>Non-production</td>\n",
       "    </tr>\n",
       "    <tr>\n",
       "      <th>2</th>\n",
       "      <td>2020-07-27 00:30:00</td>\n",
       "      <td>Sub - Feeder F08</td>\n",
       "      <td>481.250</td>\n",
       "      <td>Non-production</td>\n",
       "    </tr>\n",
       "    <tr>\n",
       "      <th>3</th>\n",
       "      <td>2020-07-27 00:45:00</td>\n",
       "      <td>Sub - Feeder F08</td>\n",
       "      <td>481.125</td>\n",
       "      <td>Non-production</td>\n",
       "    </tr>\n",
       "    <tr>\n",
       "      <th>4</th>\n",
       "      <td>2020-07-27 01:00:00</td>\n",
       "      <td>Sub - Feeder F08</td>\n",
       "      <td>481.000</td>\n",
       "      <td>Non-production</td>\n",
       "    </tr>\n",
       "    <tr>\n",
       "      <th>...</th>\n",
       "      <td>...</td>\n",
       "      <td>...</td>\n",
       "      <td>...</td>\n",
       "      <td>...</td>\n",
       "    </tr>\n",
       "    <tr>\n",
       "      <th>2683</th>\n",
       "      <td>2020-09-20 22:45:00</td>\n",
       "      <td>Sub - Feeder F08</td>\n",
       "      <td>372.125</td>\n",
       "      <td>Non-production</td>\n",
       "    </tr>\n",
       "    <tr>\n",
       "      <th>2684</th>\n",
       "      <td>2020-09-20 23:00:00</td>\n",
       "      <td>Sub - Feeder F08</td>\n",
       "      <td>371.500</td>\n",
       "      <td>Non-production</td>\n",
       "    </tr>\n",
       "    <tr>\n",
       "      <th>2685</th>\n",
       "      <td>2020-09-20 23:15:00</td>\n",
       "      <td>Sub - Feeder F08</td>\n",
       "      <td>378.125</td>\n",
       "      <td>Non-production</td>\n",
       "    </tr>\n",
       "    <tr>\n",
       "      <th>2686</th>\n",
       "      <td>2020-09-20 23:30:00</td>\n",
       "      <td>Sub - Feeder F08</td>\n",
       "      <td>384.750</td>\n",
       "      <td>Non-production</td>\n",
       "    </tr>\n",
       "    <tr>\n",
       "      <th>2687</th>\n",
       "      <td>2020-09-20 23:45:00</td>\n",
       "      <td>Sub - Feeder F08</td>\n",
       "      <td>391.375</td>\n",
       "      <td>Non-production</td>\n",
       "    </tr>\n",
       "  </tbody>\n",
       "</table>\n",
       "<p>2688 rows × 4 columns</p>\n",
       "</div>"
      ],
      "text/plain": [
       "                     time           Measure      kWh           label\n",
       "0     2020-07-27 00:00:00  Sub - Feeder F08  481.500  Non-production\n",
       "1     2020-07-27 00:15:00  Sub - Feeder F08  481.375  Non-production\n",
       "2     2020-07-27 00:30:00  Sub - Feeder F08  481.250  Non-production\n",
       "3     2020-07-27 00:45:00  Sub - Feeder F08  481.125  Non-production\n",
       "4     2020-07-27 01:00:00  Sub - Feeder F08  481.000  Non-production\n",
       "...                   ...               ...      ...             ...\n",
       "2683  2020-09-20 22:45:00  Sub - Feeder F08  372.125  Non-production\n",
       "2684  2020-09-20 23:00:00  Sub - Feeder F08  371.500  Non-production\n",
       "2685  2020-09-20 23:15:00  Sub - Feeder F08  378.125  Non-production\n",
       "2686  2020-09-20 23:30:00  Sub - Feeder F08  384.750  Non-production\n",
       "2687  2020-09-20 23:45:00  Sub - Feeder F08  391.375  Non-production\n",
       "\n",
       "[2688 rows x 4 columns]"
      ]
     },
     "execution_count": 58,
     "metadata": {},
     "output_type": "execute_result"
    }
   ],
   "source": [
    "final"
   ]
  },
  {
   "cell_type": "code",
   "execution_count": 59,
   "id": "c42cf827",
   "metadata": {},
   "outputs": [
    {
     "data": {
      "text/plain": [
       "array(['Non-production', 'Power-up', 'Production', 'Power-down'],\n",
       "      dtype=object)"
      ]
     },
     "execution_count": 59,
     "metadata": {},
     "output_type": "execute_result"
    }
   ],
   "source": [
    "final.label.unique()"
   ]
  },
  {
   "cell_type": "code",
   "execution_count": 60,
   "id": "66fd16b8",
   "metadata": {},
   "outputs": [],
   "source": [
    "final.replace({'label': d}, inplace=True)"
   ]
  },
  {
   "cell_type": "code",
   "execution_count": 61,
   "id": "9ca947f5",
   "metadata": {},
   "outputs": [
    {
     "data": {
      "text/html": [
       "<div>\n",
       "<style scoped>\n",
       "    .dataframe tbody tr th:only-of-type {\n",
       "        vertical-align: middle;\n",
       "    }\n",
       "\n",
       "    .dataframe tbody tr th {\n",
       "        vertical-align: top;\n",
       "    }\n",
       "\n",
       "    .dataframe thead th {\n",
       "        text-align: right;\n",
       "    }\n",
       "</style>\n",
       "<table border=\"1\" class=\"dataframe\">\n",
       "  <thead>\n",
       "    <tr style=\"text-align: right;\">\n",
       "      <th></th>\n",
       "      <th>time</th>\n",
       "      <th>Measure</th>\n",
       "      <th>kWh</th>\n",
       "      <th>label_1</th>\n",
       "      <th>label_2</th>\n",
       "      <th>label_3</th>\n",
       "      <th>label_4</th>\n",
       "    </tr>\n",
       "  </thead>\n",
       "  <tbody>\n",
       "    <tr>\n",
       "      <th>0</th>\n",
       "      <td>2020-07-27 00:00:00</td>\n",
       "      <td>Sub - Feeder F08</td>\n",
       "      <td>481.500</td>\n",
       "      <td>1</td>\n",
       "      <td>0</td>\n",
       "      <td>0</td>\n",
       "      <td>0</td>\n",
       "    </tr>\n",
       "    <tr>\n",
       "      <th>1</th>\n",
       "      <td>2020-07-27 00:15:00</td>\n",
       "      <td>Sub - Feeder F08</td>\n",
       "      <td>481.375</td>\n",
       "      <td>1</td>\n",
       "      <td>0</td>\n",
       "      <td>0</td>\n",
       "      <td>0</td>\n",
       "    </tr>\n",
       "    <tr>\n",
       "      <th>2</th>\n",
       "      <td>2020-07-27 00:30:00</td>\n",
       "      <td>Sub - Feeder F08</td>\n",
       "      <td>481.250</td>\n",
       "      <td>1</td>\n",
       "      <td>0</td>\n",
       "      <td>0</td>\n",
       "      <td>0</td>\n",
       "    </tr>\n",
       "    <tr>\n",
       "      <th>3</th>\n",
       "      <td>2020-07-27 00:45:00</td>\n",
       "      <td>Sub - Feeder F08</td>\n",
       "      <td>481.125</td>\n",
       "      <td>1</td>\n",
       "      <td>0</td>\n",
       "      <td>0</td>\n",
       "      <td>0</td>\n",
       "    </tr>\n",
       "    <tr>\n",
       "      <th>4</th>\n",
       "      <td>2020-07-27 01:00:00</td>\n",
       "      <td>Sub - Feeder F08</td>\n",
       "      <td>481.000</td>\n",
       "      <td>1</td>\n",
       "      <td>0</td>\n",
       "      <td>0</td>\n",
       "      <td>0</td>\n",
       "    </tr>\n",
       "  </tbody>\n",
       "</table>\n",
       "</div>"
      ],
      "text/plain": [
       "                  time           Measure      kWh  label_1  label_2  label_3  \\\n",
       "0  2020-07-27 00:00:00  Sub - Feeder F08  481.500        1        0        0   \n",
       "1  2020-07-27 00:15:00  Sub - Feeder F08  481.375        1        0        0   \n",
       "2  2020-07-27 00:30:00  Sub - Feeder F08  481.250        1        0        0   \n",
       "3  2020-07-27 00:45:00  Sub - Feeder F08  481.125        1        0        0   \n",
       "4  2020-07-27 01:00:00  Sub - Feeder F08  481.000        1        0        0   \n",
       "\n",
       "   label_4  \n",
       "0        0  \n",
       "1        0  \n",
       "2        0  \n",
       "3        0  \n",
       "4        0  "
      ]
     },
     "execution_count": 61,
     "metadata": {},
     "output_type": "execute_result"
    }
   ],
   "source": [
    "final1 = pd.get_dummies(data=final, columns=['label'])\n",
    "final1.head()"
   ]
  },
  {
   "cell_type": "code",
   "execution_count": 63,
   "id": "8ff80cc9",
   "metadata": {},
   "outputs": [],
   "source": [
    "X_test = final1.drop(['time', 'Measure'], axis=1).values.astype('float32')\n",
    "y_test = final['label'].values.astype('float32')"
   ]
  },
  {
   "cell_type": "code",
   "execution_count": 65,
   "id": "f02a176b",
   "metadata": {},
   "outputs": [
    {
     "name": "stdout",
     "output_type": "stream",
     "text": [
      "(2688, 5)\n",
      "(2688,)\n"
     ]
    }
   ],
   "source": [
    "print(X_test.shape)\n",
    "print(y_test.shape)"
   ]
  },
  {
   "cell_type": "code",
   "execution_count": 64,
   "id": "64fa414a",
   "metadata": {},
   "outputs": [
    {
     "ename": "ValueError",
     "evalue": "in user code:\n\n    File \"C:\\Users\\lenovo\\anaconda3\\envs\\my_env\\lib\\site-packages\\keras\\engine\\training.py\", line 2041, in predict_function  *\n        return step_function(self, iterator)\n    File \"C:\\Users\\lenovo\\anaconda3\\envs\\my_env\\lib\\site-packages\\keras\\engine\\training.py\", line 2027, in step_function  **\n        outputs = model.distribute_strategy.run(run_step, args=(data,))\n    File \"C:\\Users\\lenovo\\anaconda3\\envs\\my_env\\lib\\site-packages\\keras\\engine\\training.py\", line 2015, in run_step  **\n        outputs = model.predict_step(data)\n    File \"C:\\Users\\lenovo\\anaconda3\\envs\\my_env\\lib\\site-packages\\keras\\engine\\training.py\", line 1983, in predict_step\n        return self(x, training=False)\n    File \"C:\\Users\\lenovo\\anaconda3\\envs\\my_env\\lib\\site-packages\\keras\\utils\\traceback_utils.py\", line 70, in error_handler\n        raise e.with_traceback(filtered_tb) from None\n    File \"C:\\Users\\lenovo\\anaconda3\\envs\\my_env\\lib\\site-packages\\keras\\engine\\input_spec.py\", line 295, in assert_input_compatibility\n        raise ValueError(\n\n    ValueError: Input 0 of layer \"sequential_7\" is incompatible with the layer: expected shape=(None, 6), found shape=(12, 5)\n",
     "output_type": "error",
     "traceback": [
      "\u001b[1;31m---------------------------------------------------------------------------\u001b[0m",
      "\u001b[1;31mValueError\u001b[0m                                Traceback (most recent call last)",
      "Cell \u001b[1;32mIn[64], line 1\u001b[0m\n\u001b[1;32m----> 1\u001b[0m \u001b[43mmodel\u001b[49m\u001b[38;5;241;43m.\u001b[39;49m\u001b[43mpredict\u001b[49m\u001b[43m(\u001b[49m\u001b[43mX_test\u001b[49m\u001b[43m,\u001b[49m\u001b[43m \u001b[49m\u001b[43mbatch_size\u001b[49m\u001b[38;5;241;43m=\u001b[39;49m\u001b[38;5;241;43m12\u001b[39;49m\u001b[43m)\u001b[49m\n",
      "File \u001b[1;32m~\\anaconda3\\envs\\my_env\\lib\\site-packages\\keras\\utils\\traceback_utils.py:70\u001b[0m, in \u001b[0;36mfilter_traceback.<locals>.error_handler\u001b[1;34m(*args, **kwargs)\u001b[0m\n\u001b[0;32m     67\u001b[0m     filtered_tb \u001b[38;5;241m=\u001b[39m _process_traceback_frames(e\u001b[38;5;241m.\u001b[39m__traceback__)\n\u001b[0;32m     68\u001b[0m     \u001b[38;5;66;03m# To get the full stack trace, call:\u001b[39;00m\n\u001b[0;32m     69\u001b[0m     \u001b[38;5;66;03m# `tf.debugging.disable_traceback_filtering()`\u001b[39;00m\n\u001b[1;32m---> 70\u001b[0m     \u001b[38;5;28;01mraise\u001b[39;00m e\u001b[38;5;241m.\u001b[39mwith_traceback(filtered_tb) \u001b[38;5;28;01mfrom\u001b[39;00m \u001b[38;5;28mNone\u001b[39m\n\u001b[0;32m     71\u001b[0m \u001b[38;5;28;01mfinally\u001b[39;00m:\n\u001b[0;32m     72\u001b[0m     \u001b[38;5;28;01mdel\u001b[39;00m filtered_tb\n",
      "File \u001b[1;32m~\\AppData\\Local\\Temp\\__autograph_generated_fileh220qib3.py:15\u001b[0m, in \u001b[0;36mouter_factory.<locals>.inner_factory.<locals>.tf__predict_function\u001b[1;34m(iterator)\u001b[0m\n\u001b[0;32m     13\u001b[0m \u001b[38;5;28;01mtry\u001b[39;00m:\n\u001b[0;32m     14\u001b[0m     do_return \u001b[38;5;241m=\u001b[39m \u001b[38;5;28;01mTrue\u001b[39;00m\n\u001b[1;32m---> 15\u001b[0m     retval_ \u001b[38;5;241m=\u001b[39m ag__\u001b[38;5;241m.\u001b[39mconverted_call(ag__\u001b[38;5;241m.\u001b[39mld(step_function), (ag__\u001b[38;5;241m.\u001b[39mld(\u001b[38;5;28mself\u001b[39m), ag__\u001b[38;5;241m.\u001b[39mld(iterator)), \u001b[38;5;28;01mNone\u001b[39;00m, fscope)\n\u001b[0;32m     16\u001b[0m \u001b[38;5;28;01mexcept\u001b[39;00m:\n\u001b[0;32m     17\u001b[0m     do_return \u001b[38;5;241m=\u001b[39m \u001b[38;5;28;01mFalse\u001b[39;00m\n",
      "\u001b[1;31mValueError\u001b[0m: in user code:\n\n    File \"C:\\Users\\lenovo\\anaconda3\\envs\\my_env\\lib\\site-packages\\keras\\engine\\training.py\", line 2041, in predict_function  *\n        return step_function(self, iterator)\n    File \"C:\\Users\\lenovo\\anaconda3\\envs\\my_env\\lib\\site-packages\\keras\\engine\\training.py\", line 2027, in step_function  **\n        outputs = model.distribute_strategy.run(run_step, args=(data,))\n    File \"C:\\Users\\lenovo\\anaconda3\\envs\\my_env\\lib\\site-packages\\keras\\engine\\training.py\", line 2015, in run_step  **\n        outputs = model.predict_step(data)\n    File \"C:\\Users\\lenovo\\anaconda3\\envs\\my_env\\lib\\site-packages\\keras\\engine\\training.py\", line 1983, in predict_step\n        return self(x, training=False)\n    File \"C:\\Users\\lenovo\\anaconda3\\envs\\my_env\\lib\\site-packages\\keras\\utils\\traceback_utils.py\", line 70, in error_handler\n        raise e.with_traceback(filtered_tb) from None\n    File \"C:\\Users\\lenovo\\anaconda3\\envs\\my_env\\lib\\site-packages\\keras\\engine\\input_spec.py\", line 295, in assert_input_compatibility\n        raise ValueError(\n\n    ValueError: Input 0 of layer \"sequential_7\" is incompatible with the layer: expected shape=(None, 6), found shape=(12, 5)\n"
     ]
    }
   ],
   "source": [
    "model.predict(X_test, batch_size=12)"
   ]
  },
  {
   "cell_type": "code",
   "execution_count": null,
   "id": "71233e0e",
   "metadata": {},
   "outputs": [],
   "source": []
  }
 ],
 "metadata": {
  "kernelspec": {
   "display_name": "Python 3 (ipykernel)",
   "language": "python",
   "name": "python3"
  },
  "language_info": {
   "codemirror_mode": {
    "name": "ipython",
    "version": 3
   },
   "file_extension": ".py",
   "mimetype": "text/x-python",
   "name": "python",
   "nbconvert_exporter": "python",
   "pygments_lexer": "ipython3",
   "version": "3.10.10"
  }
 },
 "nbformat": 4,
 "nbformat_minor": 5
}
