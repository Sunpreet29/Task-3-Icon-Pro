{
 "cells": [
  {
   "cell_type": "code",
   "execution_count": 70,
   "id": "9d4d44e1",
   "metadata": {},
   "outputs": [],
   "source": [
    "import numpy as np\n",
    "import pandas as pd\n",
    "import matplotlib.pyplot as plt\n",
    "import seaborn as sns\n",
    "import tensorflow as tf"
   ]
  },
  {
   "cell_type": "code",
   "execution_count": 71,
   "id": "cffc7d12",
   "metadata": {},
   "outputs": [],
   "source": [
    "data = pd.read_csv('data_v3/train_data_v3.csv', parse_dates=True)"
   ]
  },
  {
   "cell_type": "code",
   "execution_count": 72,
   "id": "3dd68a7b",
   "metadata": {},
   "outputs": [
    {
     "data": {
      "text/html": [
       "<div>\n",
       "<style scoped>\n",
       "    .dataframe tbody tr th:only-of-type {\n",
       "        vertical-align: middle;\n",
       "    }\n",
       "\n",
       "    .dataframe tbody tr th {\n",
       "        vertical-align: top;\n",
       "    }\n",
       "\n",
       "    .dataframe thead th {\n",
       "        text-align: right;\n",
       "    }\n",
       "</style>\n",
       "<table border=\"1\" class=\"dataframe\">\n",
       "  <thead>\n",
       "    <tr style=\"text-align: right;\">\n",
       "      <th></th>\n",
       "      <th>time</th>\n",
       "      <th>Measure</th>\n",
       "      <th>kWh</th>\n",
       "      <th>label</th>\n",
       "    </tr>\n",
       "  </thead>\n",
       "  <tbody>\n",
       "    <tr>\n",
       "      <th>0</th>\n",
       "      <td>2022-01-03 00:00:00</td>\n",
       "      <td>Mech_Svc_AHU</td>\n",
       "      <td>8.0000</td>\n",
       "      <td>unclassified</td>\n",
       "    </tr>\n",
       "    <tr>\n",
       "      <th>1</th>\n",
       "      <td>2022-01-03 00:00:00</td>\n",
       "      <td>Sub - Main M2</td>\n",
       "      <td>1000.0000</td>\n",
       "      <td>unclassified</td>\n",
       "    </tr>\n",
       "    <tr>\n",
       "      <th>2</th>\n",
       "      <td>2022-01-03 00:00:00</td>\n",
       "      <td>FB1 - Main 1L</td>\n",
       "      <td>26.5000</td>\n",
       "      <td>unclassified</td>\n",
       "    </tr>\n",
       "    <tr>\n",
       "      <th>3</th>\n",
       "      <td>2022-01-03 00:00:00</td>\n",
       "      <td>AB3 - Main 3L</td>\n",
       "      <td>36.7500</td>\n",
       "      <td>Non-production</td>\n",
       "    </tr>\n",
       "    <tr>\n",
       "      <th>4</th>\n",
       "      <td>2022-01-03 00:00:00</td>\n",
       "      <td>Sub - Feeder F04</td>\n",
       "      <td>0.0000</td>\n",
       "      <td>unclassified</td>\n",
       "    </tr>\n",
       "    <tr>\n",
       "      <th>...</th>\n",
       "      <td>...</td>\n",
       "      <td>...</td>\n",
       "      <td>...</td>\n",
       "      <td>...</td>\n",
       "    </tr>\n",
       "    <tr>\n",
       "      <th>652419</th>\n",
       "      <td>2022-11-13 23:45:00</td>\n",
       "      <td>Sub - Feeder F03</td>\n",
       "      <td>22.1250</td>\n",
       "      <td>unclassified</td>\n",
       "    </tr>\n",
       "    <tr>\n",
       "      <th>652420</th>\n",
       "      <td>2022-11-13 23:45:00</td>\n",
       "      <td>Sub - Feeder F04</td>\n",
       "      <td>0.0000</td>\n",
       "      <td>unclassified</td>\n",
       "    </tr>\n",
       "    <tr>\n",
       "      <th>652421</th>\n",
       "      <td>2022-11-13 23:45:00</td>\n",
       "      <td>Paint_AHU</td>\n",
       "      <td>8.2500</td>\n",
       "      <td>unclassified</td>\n",
       "    </tr>\n",
       "    <tr>\n",
       "      <th>652422</th>\n",
       "      <td>2022-11-13 23:45:00</td>\n",
       "      <td>BS4 - Main 4L</td>\n",
       "      <td>47.5000</td>\n",
       "      <td>unclassified</td>\n",
       "    </tr>\n",
       "    <tr>\n",
       "      <th>652423</th>\n",
       "      <td>2022-11-13 23:45:00</td>\n",
       "      <td>AB3 - Main 3R</td>\n",
       "      <td>42.0625</td>\n",
       "      <td>unclassified</td>\n",
       "    </tr>\n",
       "  </tbody>\n",
       "</table>\n",
       "<p>652424 rows × 4 columns</p>\n",
       "</div>"
      ],
      "text/plain": [
       "                       time           Measure        kWh           label\n",
       "0       2022-01-03 00:00:00      Mech_Svc_AHU     8.0000    unclassified\n",
       "1       2022-01-03 00:00:00     Sub - Main M2  1000.0000    unclassified\n",
       "2       2022-01-03 00:00:00     FB1 - Main 1L    26.5000    unclassified\n",
       "3       2022-01-03 00:00:00     AB3 - Main 3L    36.7500  Non-production\n",
       "4       2022-01-03 00:00:00  Sub - Feeder F04     0.0000    unclassified\n",
       "...                     ...               ...        ...             ...\n",
       "652419  2022-11-13 23:45:00  Sub - Feeder F03    22.1250    unclassified\n",
       "652420  2022-11-13 23:45:00  Sub - Feeder F04     0.0000    unclassified\n",
       "652421  2022-11-13 23:45:00         Paint_AHU     8.2500    unclassified\n",
       "652422  2022-11-13 23:45:00     BS4 - Main 4L    47.5000    unclassified\n",
       "652423  2022-11-13 23:45:00     AB3 - Main 3R    42.0625    unclassified\n",
       "\n",
       "[652424 rows x 4 columns]"
      ]
     },
     "execution_count": 72,
     "metadata": {},
     "output_type": "execute_result"
    }
   ],
   "source": [
    "data"
   ]
  },
  {
   "cell_type": "code",
   "execution_count": 75,
   "id": "1c8a0498",
   "metadata": {},
   "outputs": [],
   "source": [
    "data.drop(data[data['label'] == 'unclassified'].index, inplace=True)"
   ]
  },
  {
   "cell_type": "code",
   "execution_count": 76,
   "id": "c4019cf7",
   "metadata": {},
   "outputs": [
    {
     "data": {
      "text/html": [
       "<div>\n",
       "<style scoped>\n",
       "    .dataframe tbody tr th:only-of-type {\n",
       "        vertical-align: middle;\n",
       "    }\n",
       "\n",
       "    .dataframe tbody tr th {\n",
       "        vertical-align: top;\n",
       "    }\n",
       "\n",
       "    .dataframe thead th {\n",
       "        text-align: right;\n",
       "    }\n",
       "</style>\n",
       "<table border=\"1\" class=\"dataframe\">\n",
       "  <thead>\n",
       "    <tr style=\"text-align: right;\">\n",
       "      <th></th>\n",
       "      <th>time</th>\n",
       "      <th>Measure</th>\n",
       "      <th>kWh</th>\n",
       "      <th>label</th>\n",
       "    </tr>\n",
       "  </thead>\n",
       "  <tbody>\n",
       "    <tr>\n",
       "      <th>3</th>\n",
       "      <td>2022-01-03 00:00:00</td>\n",
       "      <td>AB3 - Main 3L</td>\n",
       "      <td>36.7500</td>\n",
       "      <td>Non-production</td>\n",
       "    </tr>\n",
       "    <tr>\n",
       "      <th>5</th>\n",
       "      <td>2022-01-03 00:00:00</td>\n",
       "      <td>Sub - Feeder F02</td>\n",
       "      <td>64.2500</td>\n",
       "      <td>Non-production</td>\n",
       "    </tr>\n",
       "    <tr>\n",
       "      <th>8</th>\n",
       "      <td>2022-01-03 00:00:00</td>\n",
       "      <td>BS4 - Main 4R</td>\n",
       "      <td>19.2500</td>\n",
       "      <td>Non-production</td>\n",
       "    </tr>\n",
       "    <tr>\n",
       "      <th>12</th>\n",
       "      <td>2022-01-03 00:00:00</td>\n",
       "      <td>BS1 - Main 1L</td>\n",
       "      <td>31.7500</td>\n",
       "      <td>Non-production</td>\n",
       "    </tr>\n",
       "    <tr>\n",
       "      <th>24</th>\n",
       "      <td>2022-01-03 00:15:00</td>\n",
       "      <td>BS4 - Main 4R</td>\n",
       "      <td>19.2500</td>\n",
       "      <td>Non-production</td>\n",
       "    </tr>\n",
       "    <tr>\n",
       "      <th>...</th>\n",
       "      <td>...</td>\n",
       "      <td>...</td>\n",
       "      <td>...</td>\n",
       "      <td>...</td>\n",
       "    </tr>\n",
       "    <tr>\n",
       "      <th>652391</th>\n",
       "      <td>2022-11-13 23:30:00</td>\n",
       "      <td>BS1 - Main 1L</td>\n",
       "      <td>34.6250</td>\n",
       "      <td>Non-production</td>\n",
       "    </tr>\n",
       "    <tr>\n",
       "      <th>652392</th>\n",
       "      <td>2022-11-13 23:30:00</td>\n",
       "      <td>AB3 - Main 3L</td>\n",
       "      <td>30.8750</td>\n",
       "      <td>Non-production</td>\n",
       "    </tr>\n",
       "    <tr>\n",
       "      <th>652404</th>\n",
       "      <td>2022-11-13 23:45:00</td>\n",
       "      <td>BS1 - Main 1L</td>\n",
       "      <td>34.3125</td>\n",
       "      <td>Non-production</td>\n",
       "    </tr>\n",
       "    <tr>\n",
       "      <th>652405</th>\n",
       "      <td>2022-11-13 23:45:00</td>\n",
       "      <td>BS4 - Main 4R</td>\n",
       "      <td>30.8750</td>\n",
       "      <td>Non-production</td>\n",
       "    </tr>\n",
       "    <tr>\n",
       "      <th>652415</th>\n",
       "      <td>2022-11-13 23:45:00</td>\n",
       "      <td>AB3 - Main 3L</td>\n",
       "      <td>31.0625</td>\n",
       "      <td>Non-production</td>\n",
       "    </tr>\n",
       "  </tbody>\n",
       "</table>\n",
       "<p>81312 rows × 4 columns</p>\n",
       "</div>"
      ],
      "text/plain": [
       "                       time           Measure      kWh           label\n",
       "3       2022-01-03 00:00:00     AB3 - Main 3L  36.7500  Non-production\n",
       "5       2022-01-03 00:00:00  Sub - Feeder F02  64.2500  Non-production\n",
       "8       2022-01-03 00:00:00     BS4 - Main 4R  19.2500  Non-production\n",
       "12      2022-01-03 00:00:00     BS1 - Main 1L  31.7500  Non-production\n",
       "24      2022-01-03 00:15:00     BS4 - Main 4R  19.2500  Non-production\n",
       "...                     ...               ...      ...             ...\n",
       "652391  2022-11-13 23:30:00     BS1 - Main 1L  34.6250  Non-production\n",
       "652392  2022-11-13 23:30:00     AB3 - Main 3L  30.8750  Non-production\n",
       "652404  2022-11-13 23:45:00     BS1 - Main 1L  34.3125  Non-production\n",
       "652405  2022-11-13 23:45:00     BS4 - Main 4R  30.8750  Non-production\n",
       "652415  2022-11-13 23:45:00     AB3 - Main 3L  31.0625  Non-production\n",
       "\n",
       "[81312 rows x 4 columns]"
      ]
     },
     "execution_count": 76,
     "metadata": {},
     "output_type": "execute_result"
    }
   ],
   "source": [
    "data"
   ]
  },
  {
   "cell_type": "code",
   "execution_count": 77,
   "id": "90bdf686",
   "metadata": {},
   "outputs": [
    {
     "data": {
      "text/html": [
       "<div>\n",
       "<style scoped>\n",
       "    .dataframe tbody tr th:only-of-type {\n",
       "        vertical-align: middle;\n",
       "    }\n",
       "\n",
       "    .dataframe tbody tr th {\n",
       "        vertical-align: top;\n",
       "    }\n",
       "\n",
       "    .dataframe thead th {\n",
       "        text-align: right;\n",
       "    }\n",
       "</style>\n",
       "<table border=\"1\" class=\"dataframe\">\n",
       "  <thead>\n",
       "    <tr style=\"text-align: right;\">\n",
       "      <th></th>\n",
       "      <th>time</th>\n",
       "      <th>Measure</th>\n",
       "      <th>kWh</th>\n",
       "      <th>label_Non-production</th>\n",
       "      <th>label_Power-down</th>\n",
       "      <th>label_Power-up</th>\n",
       "      <th>label_Production</th>\n",
       "    </tr>\n",
       "  </thead>\n",
       "  <tbody>\n",
       "    <tr>\n",
       "      <th>3</th>\n",
       "      <td>2022-01-03 00:00:00</td>\n",
       "      <td>AB3 - Main 3L</td>\n",
       "      <td>36.7500</td>\n",
       "      <td>1</td>\n",
       "      <td>0</td>\n",
       "      <td>0</td>\n",
       "      <td>0</td>\n",
       "    </tr>\n",
       "    <tr>\n",
       "      <th>5</th>\n",
       "      <td>2022-01-03 00:00:00</td>\n",
       "      <td>Sub - Feeder F02</td>\n",
       "      <td>64.2500</td>\n",
       "      <td>1</td>\n",
       "      <td>0</td>\n",
       "      <td>0</td>\n",
       "      <td>0</td>\n",
       "    </tr>\n",
       "    <tr>\n",
       "      <th>8</th>\n",
       "      <td>2022-01-03 00:00:00</td>\n",
       "      <td>BS4 - Main 4R</td>\n",
       "      <td>19.2500</td>\n",
       "      <td>1</td>\n",
       "      <td>0</td>\n",
       "      <td>0</td>\n",
       "      <td>0</td>\n",
       "    </tr>\n",
       "    <tr>\n",
       "      <th>12</th>\n",
       "      <td>2022-01-03 00:00:00</td>\n",
       "      <td>BS1 - Main 1L</td>\n",
       "      <td>31.7500</td>\n",
       "      <td>1</td>\n",
       "      <td>0</td>\n",
       "      <td>0</td>\n",
       "      <td>0</td>\n",
       "    </tr>\n",
       "    <tr>\n",
       "      <th>24</th>\n",
       "      <td>2022-01-03 00:15:00</td>\n",
       "      <td>BS4 - Main 4R</td>\n",
       "      <td>19.2500</td>\n",
       "      <td>1</td>\n",
       "      <td>0</td>\n",
       "      <td>0</td>\n",
       "      <td>0</td>\n",
       "    </tr>\n",
       "    <tr>\n",
       "      <th>...</th>\n",
       "      <td>...</td>\n",
       "      <td>...</td>\n",
       "      <td>...</td>\n",
       "      <td>...</td>\n",
       "      <td>...</td>\n",
       "      <td>...</td>\n",
       "      <td>...</td>\n",
       "    </tr>\n",
       "    <tr>\n",
       "      <th>652391</th>\n",
       "      <td>2022-11-13 23:30:00</td>\n",
       "      <td>BS1 - Main 1L</td>\n",
       "      <td>34.6250</td>\n",
       "      <td>1</td>\n",
       "      <td>0</td>\n",
       "      <td>0</td>\n",
       "      <td>0</td>\n",
       "    </tr>\n",
       "    <tr>\n",
       "      <th>652392</th>\n",
       "      <td>2022-11-13 23:30:00</td>\n",
       "      <td>AB3 - Main 3L</td>\n",
       "      <td>30.8750</td>\n",
       "      <td>1</td>\n",
       "      <td>0</td>\n",
       "      <td>0</td>\n",
       "      <td>0</td>\n",
       "    </tr>\n",
       "    <tr>\n",
       "      <th>652404</th>\n",
       "      <td>2022-11-13 23:45:00</td>\n",
       "      <td>BS1 - Main 1L</td>\n",
       "      <td>34.3125</td>\n",
       "      <td>1</td>\n",
       "      <td>0</td>\n",
       "      <td>0</td>\n",
       "      <td>0</td>\n",
       "    </tr>\n",
       "    <tr>\n",
       "      <th>652405</th>\n",
       "      <td>2022-11-13 23:45:00</td>\n",
       "      <td>BS4 - Main 4R</td>\n",
       "      <td>30.8750</td>\n",
       "      <td>1</td>\n",
       "      <td>0</td>\n",
       "      <td>0</td>\n",
       "      <td>0</td>\n",
       "    </tr>\n",
       "    <tr>\n",
       "      <th>652415</th>\n",
       "      <td>2022-11-13 23:45:00</td>\n",
       "      <td>AB3 - Main 3L</td>\n",
       "      <td>31.0625</td>\n",
       "      <td>1</td>\n",
       "      <td>0</td>\n",
       "      <td>0</td>\n",
       "      <td>0</td>\n",
       "    </tr>\n",
       "  </tbody>\n",
       "</table>\n",
       "<p>81312 rows × 7 columns</p>\n",
       "</div>"
      ],
      "text/plain": [
       "                       time           Measure      kWh  label_Non-production  \\\n",
       "3       2022-01-03 00:00:00     AB3 - Main 3L  36.7500                     1   \n",
       "5       2022-01-03 00:00:00  Sub - Feeder F02  64.2500                     1   \n",
       "8       2022-01-03 00:00:00     BS4 - Main 4R  19.2500                     1   \n",
       "12      2022-01-03 00:00:00     BS1 - Main 1L  31.7500                     1   \n",
       "24      2022-01-03 00:15:00     BS4 - Main 4R  19.2500                     1   \n",
       "...                     ...               ...      ...                   ...   \n",
       "652391  2022-11-13 23:30:00     BS1 - Main 1L  34.6250                     1   \n",
       "652392  2022-11-13 23:30:00     AB3 - Main 3L  30.8750                     1   \n",
       "652404  2022-11-13 23:45:00     BS1 - Main 1L  34.3125                     1   \n",
       "652405  2022-11-13 23:45:00     BS4 - Main 4R  30.8750                     1   \n",
       "652415  2022-11-13 23:45:00     AB3 - Main 3L  31.0625                     1   \n",
       "\n",
       "        label_Power-down  label_Power-up  label_Production  \n",
       "3                      0               0                 0  \n",
       "5                      0               0                 0  \n",
       "8                      0               0                 0  \n",
       "12                     0               0                 0  \n",
       "24                     0               0                 0  \n",
       "...                  ...             ...               ...  \n",
       "652391                 0               0                 0  \n",
       "652392                 0               0                 0  \n",
       "652404                 0               0                 0  \n",
       "652405                 0               0                 0  \n",
       "652415                 0               0                 0  \n",
       "\n",
       "[81312 rows x 7 columns]"
      ]
     },
     "execution_count": 77,
     "metadata": {},
     "output_type": "execute_result"
    }
   ],
   "source": [
    "data1 = pd.get_dummies(data, columns=['label'])\n",
    "data1"
   ]
  },
  {
   "cell_type": "code",
   "execution_count": 78,
   "id": "b565d826",
   "metadata": {},
   "outputs": [
    {
     "data": {
      "text/plain": [
       "array(['Non-production', 'Power-up', 'Production', 'Power-down'],\n",
       "      dtype=object)"
      ]
     },
     "execution_count": 78,
     "metadata": {},
     "output_type": "execute_result"
    }
   ],
   "source": [
    "data.label.unique()"
   ]
  },
  {
   "cell_type": "code",
   "execution_count": 79,
   "id": "6a1c64cb",
   "metadata": {},
   "outputs": [],
   "source": [
    "d = {'unclassified':0, 'Non-production':1, 'Power-up':2, 'Production':3, 'Power-down':4}"
   ]
  },
  {
   "cell_type": "code",
   "execution_count": 80,
   "id": "133cf00e",
   "metadata": {},
   "outputs": [],
   "source": [
    "data.replace({'label': d}, inplace=True)"
   ]
  },
  {
   "cell_type": "code",
   "execution_count": 81,
   "id": "fe615aaa",
   "metadata": {},
   "outputs": [],
   "source": [
    "X = data1.drop(['time', 'Measure'], axis=1).values.astype('float32')\n",
    "y = data['label'].values.astype('float32')"
   ]
  },
  {
   "cell_type": "code",
   "execution_count": 82,
   "id": "1e7e3153",
   "metadata": {},
   "outputs": [],
   "source": [
    "from sklearn.model_selection import train_test_split"
   ]
  },
  {
   "cell_type": "code",
   "execution_count": 83,
   "id": "7454e893",
   "metadata": {},
   "outputs": [],
   "source": [
    "X_train, X_test, y_train, y_test = train_test_split(X, y, test_size=0.45, random_state=101)"
   ]
  },
  {
   "cell_type": "code",
   "execution_count": 84,
   "id": "d279d841",
   "metadata": {},
   "outputs": [
    {
     "name": "stdout",
     "output_type": "stream",
     "text": [
      "(44721, 5)\n",
      "(44721,)\n"
     ]
    }
   ],
   "source": [
    "print(X_train.shape)\n",
    "print(y_train.shape)"
   ]
  },
  {
   "cell_type": "code",
   "execution_count": 88,
   "id": "a39c642f",
   "metadata": {},
   "outputs": [],
   "source": [
    "import tensorflow as tf\n",
    "from tensorflow import keras\n",
    "from tensorflow.keras.models import Sequential\n",
    "from tensorflow.keras.layers import Dropout, Dense"
   ]
  },
  {
   "cell_type": "code",
   "execution_count": 89,
   "id": "2072abaa",
   "metadata": {},
   "outputs": [
    {
     "name": "stdout",
     "output_type": "stream",
     "text": [
      "Epoch 1/10\n",
      "2796/2796 [==============================] - 3s 925us/step - loss: 0.0000e+00 - accuracy: 0.4311\n",
      "Epoch 2/10\n",
      "2796/2796 [==============================] - 2s 891us/step - loss: 0.0000e+00 - accuracy: 0.4311\n",
      "Epoch 3/10\n",
      "2796/2796 [==============================] - 2s 884us/step - loss: 0.0000e+00 - accuracy: 0.4311\n",
      "Epoch 4/10\n",
      "2796/2796 [==============================] - 2s 893us/step - loss: 0.0000e+00 - accuracy: 0.4311\n",
      "Epoch 5/10\n",
      "2796/2796 [==============================] - 3s 941us/step - loss: 0.0000e+00 - accuracy: 0.4311\n",
      "Epoch 6/10\n",
      "2796/2796 [==============================] - 3s 1ms/step - loss: 0.0000e+00 - accuracy: 0.4311\n",
      "Epoch 7/10\n",
      "2796/2796 [==============================] - 3s 912us/step - loss: 0.0000e+00 - accuracy: 0.4311\n",
      "Epoch 8/10\n",
      "2796/2796 [==============================] - 3s 901us/step - loss: 0.0000e+00 - accuracy: 0.4311\n",
      "Epoch 9/10\n",
      "2796/2796 [==============================] - 3s 903us/step - loss: 0.0000e+00 - accuracy: 0.4311\n",
      "Epoch 10/10\n",
      "2796/2796 [==============================] - 3s 915us/step - loss: 0.0000e+00 - accuracy: 0.4311\n"
     ]
    },
    {
     "data": {
      "text/plain": [
       "<keras.callbacks.History at 0x1d52449b670>"
      ]
     },
     "execution_count": 89,
     "metadata": {},
     "output_type": "execute_result"
    }
   ],
   "source": [
    "model = Sequential()\n",
    "model.add(Dense(units=16, activation='relu', input_dim=X_train.shape[1]))\n",
    "model.add(Dropout(0.5))\n",
    "model.add(Dense(units=8, activation='relu'))\n",
    "model.add(Dense(units=4, activation='relu'))\n",
    "model.add(Dense(units=1, activation='softmax'))\n",
    "model.compile(loss='categorical_crossentropy',\n",
    "              optimizer='adam',\n",
    "              metrics=['accuracy'])\n",
    "model.fit(X_train, y_train, epochs=10, batch_size=16)"
   ]
  },
  {
   "cell_type": "code",
   "execution_count": 90,
   "id": "59dbc706",
   "metadata": {},
   "outputs": [
    {
     "name": "stdout",
     "output_type": "stream",
     "text": [
      "7319/7319 [==============================] - 6s 797us/step - loss: 0.0000e+00 - accuracy: 0.4222\n",
      "Test loss: 0.0\n",
      "Test accuracy: 0.42223498225212097\n"
     ]
    }
   ],
   "source": [
    "loss, accuracy = model.evaluate(x=X_test, y=y_test, batch_size=5)\n",
    "\n",
    "print(\"Test loss:\", loss)\n",
    "print(\"Test accuracy:\", accuracy)"
   ]
  },
  {
   "cell_type": "code",
   "execution_count": 91,
   "id": "67740f0f",
   "metadata": {},
   "outputs": [],
   "source": [
    "final = pd.read_csv('data_v3/holdout_v3.csv', parse_dates=True)"
   ]
  },
  {
   "cell_type": "code",
   "execution_count": 92,
   "id": "312da7aa",
   "metadata": {},
   "outputs": [
    {
     "data": {
      "text/html": [
       "<div>\n",
       "<style scoped>\n",
       "    .dataframe tbody tr th:only-of-type {\n",
       "        vertical-align: middle;\n",
       "    }\n",
       "\n",
       "    .dataframe tbody tr th {\n",
       "        vertical-align: top;\n",
       "    }\n",
       "\n",
       "    .dataframe thead th {\n",
       "        text-align: right;\n",
       "    }\n",
       "</style>\n",
       "<table border=\"1\" class=\"dataframe\">\n",
       "  <thead>\n",
       "    <tr style=\"text-align: right;\">\n",
       "      <th></th>\n",
       "      <th>time</th>\n",
       "      <th>Measure</th>\n",
       "      <th>kWh</th>\n",
       "      <th>label</th>\n",
       "    </tr>\n",
       "  </thead>\n",
       "  <tbody>\n",
       "    <tr>\n",
       "      <th>0</th>\n",
       "      <td>2020-07-27 00:00:00</td>\n",
       "      <td>Sub - Feeder F08</td>\n",
       "      <td>481.500</td>\n",
       "      <td>Non-production</td>\n",
       "    </tr>\n",
       "    <tr>\n",
       "      <th>1</th>\n",
       "      <td>2020-07-27 00:15:00</td>\n",
       "      <td>Sub - Feeder F08</td>\n",
       "      <td>481.375</td>\n",
       "      <td>Non-production</td>\n",
       "    </tr>\n",
       "    <tr>\n",
       "      <th>2</th>\n",
       "      <td>2020-07-27 00:30:00</td>\n",
       "      <td>Sub - Feeder F08</td>\n",
       "      <td>481.250</td>\n",
       "      <td>Non-production</td>\n",
       "    </tr>\n",
       "    <tr>\n",
       "      <th>3</th>\n",
       "      <td>2020-07-27 00:45:00</td>\n",
       "      <td>Sub - Feeder F08</td>\n",
       "      <td>481.125</td>\n",
       "      <td>Non-production</td>\n",
       "    </tr>\n",
       "    <tr>\n",
       "      <th>4</th>\n",
       "      <td>2020-07-27 01:00:00</td>\n",
       "      <td>Sub - Feeder F08</td>\n",
       "      <td>481.000</td>\n",
       "      <td>Non-production</td>\n",
       "    </tr>\n",
       "    <tr>\n",
       "      <th>...</th>\n",
       "      <td>...</td>\n",
       "      <td>...</td>\n",
       "      <td>...</td>\n",
       "      <td>...</td>\n",
       "    </tr>\n",
       "    <tr>\n",
       "      <th>2683</th>\n",
       "      <td>2020-09-20 22:45:00</td>\n",
       "      <td>Sub - Feeder F08</td>\n",
       "      <td>372.125</td>\n",
       "      <td>Non-production</td>\n",
       "    </tr>\n",
       "    <tr>\n",
       "      <th>2684</th>\n",
       "      <td>2020-09-20 23:00:00</td>\n",
       "      <td>Sub - Feeder F08</td>\n",
       "      <td>371.500</td>\n",
       "      <td>Non-production</td>\n",
       "    </tr>\n",
       "    <tr>\n",
       "      <th>2685</th>\n",
       "      <td>2020-09-20 23:15:00</td>\n",
       "      <td>Sub - Feeder F08</td>\n",
       "      <td>378.125</td>\n",
       "      <td>Non-production</td>\n",
       "    </tr>\n",
       "    <tr>\n",
       "      <th>2686</th>\n",
       "      <td>2020-09-20 23:30:00</td>\n",
       "      <td>Sub - Feeder F08</td>\n",
       "      <td>384.750</td>\n",
       "      <td>Non-production</td>\n",
       "    </tr>\n",
       "    <tr>\n",
       "      <th>2687</th>\n",
       "      <td>2020-09-20 23:45:00</td>\n",
       "      <td>Sub - Feeder F08</td>\n",
       "      <td>391.375</td>\n",
       "      <td>Non-production</td>\n",
       "    </tr>\n",
       "  </tbody>\n",
       "</table>\n",
       "<p>2688 rows × 4 columns</p>\n",
       "</div>"
      ],
      "text/plain": [
       "                     time           Measure      kWh           label\n",
       "0     2020-07-27 00:00:00  Sub - Feeder F08  481.500  Non-production\n",
       "1     2020-07-27 00:15:00  Sub - Feeder F08  481.375  Non-production\n",
       "2     2020-07-27 00:30:00  Sub - Feeder F08  481.250  Non-production\n",
       "3     2020-07-27 00:45:00  Sub - Feeder F08  481.125  Non-production\n",
       "4     2020-07-27 01:00:00  Sub - Feeder F08  481.000  Non-production\n",
       "...                   ...               ...      ...             ...\n",
       "2683  2020-09-20 22:45:00  Sub - Feeder F08  372.125  Non-production\n",
       "2684  2020-09-20 23:00:00  Sub - Feeder F08  371.500  Non-production\n",
       "2685  2020-09-20 23:15:00  Sub - Feeder F08  378.125  Non-production\n",
       "2686  2020-09-20 23:30:00  Sub - Feeder F08  384.750  Non-production\n",
       "2687  2020-09-20 23:45:00  Sub - Feeder F08  391.375  Non-production\n",
       "\n",
       "[2688 rows x 4 columns]"
      ]
     },
     "execution_count": 92,
     "metadata": {},
     "output_type": "execute_result"
    }
   ],
   "source": [
    "final"
   ]
  },
  {
   "cell_type": "code",
   "execution_count": 93,
   "id": "9f4d9c6a",
   "metadata": {},
   "outputs": [
    {
     "data": {
      "text/plain": [
       "array(['Non-production', 'Power-up', 'Production', 'Power-down'],\n",
       "      dtype=object)"
      ]
     },
     "execution_count": 93,
     "metadata": {},
     "output_type": "execute_result"
    }
   ],
   "source": [
    "final.label.unique()"
   ]
  },
  {
   "cell_type": "code",
   "execution_count": 94,
   "id": "2306eb3a",
   "metadata": {},
   "outputs": [],
   "source": [
    "final.replace({'label': d}, inplace=True)"
   ]
  },
  {
   "cell_type": "code",
   "execution_count": 95,
   "id": "f6646374",
   "metadata": {},
   "outputs": [
    {
     "data": {
      "text/html": [
       "<div>\n",
       "<style scoped>\n",
       "    .dataframe tbody tr th:only-of-type {\n",
       "        vertical-align: middle;\n",
       "    }\n",
       "\n",
       "    .dataframe tbody tr th {\n",
       "        vertical-align: top;\n",
       "    }\n",
       "\n",
       "    .dataframe thead th {\n",
       "        text-align: right;\n",
       "    }\n",
       "</style>\n",
       "<table border=\"1\" class=\"dataframe\">\n",
       "  <thead>\n",
       "    <tr style=\"text-align: right;\">\n",
       "      <th></th>\n",
       "      <th>time</th>\n",
       "      <th>Measure</th>\n",
       "      <th>kWh</th>\n",
       "      <th>label_1</th>\n",
       "      <th>label_2</th>\n",
       "      <th>label_3</th>\n",
       "      <th>label_4</th>\n",
       "    </tr>\n",
       "  </thead>\n",
       "  <tbody>\n",
       "    <tr>\n",
       "      <th>0</th>\n",
       "      <td>2020-07-27 00:00:00</td>\n",
       "      <td>Sub - Feeder F08</td>\n",
       "      <td>481.500</td>\n",
       "      <td>1</td>\n",
       "      <td>0</td>\n",
       "      <td>0</td>\n",
       "      <td>0</td>\n",
       "    </tr>\n",
       "    <tr>\n",
       "      <th>1</th>\n",
       "      <td>2020-07-27 00:15:00</td>\n",
       "      <td>Sub - Feeder F08</td>\n",
       "      <td>481.375</td>\n",
       "      <td>1</td>\n",
       "      <td>0</td>\n",
       "      <td>0</td>\n",
       "      <td>0</td>\n",
       "    </tr>\n",
       "    <tr>\n",
       "      <th>2</th>\n",
       "      <td>2020-07-27 00:30:00</td>\n",
       "      <td>Sub - Feeder F08</td>\n",
       "      <td>481.250</td>\n",
       "      <td>1</td>\n",
       "      <td>0</td>\n",
       "      <td>0</td>\n",
       "      <td>0</td>\n",
       "    </tr>\n",
       "    <tr>\n",
       "      <th>3</th>\n",
       "      <td>2020-07-27 00:45:00</td>\n",
       "      <td>Sub - Feeder F08</td>\n",
       "      <td>481.125</td>\n",
       "      <td>1</td>\n",
       "      <td>0</td>\n",
       "      <td>0</td>\n",
       "      <td>0</td>\n",
       "    </tr>\n",
       "    <tr>\n",
       "      <th>4</th>\n",
       "      <td>2020-07-27 01:00:00</td>\n",
       "      <td>Sub - Feeder F08</td>\n",
       "      <td>481.000</td>\n",
       "      <td>1</td>\n",
       "      <td>0</td>\n",
       "      <td>0</td>\n",
       "      <td>0</td>\n",
       "    </tr>\n",
       "  </tbody>\n",
       "</table>\n",
       "</div>"
      ],
      "text/plain": [
       "                  time           Measure      kWh  label_1  label_2  label_3  \\\n",
       "0  2020-07-27 00:00:00  Sub - Feeder F08  481.500        1        0        0   \n",
       "1  2020-07-27 00:15:00  Sub - Feeder F08  481.375        1        0        0   \n",
       "2  2020-07-27 00:30:00  Sub - Feeder F08  481.250        1        0        0   \n",
       "3  2020-07-27 00:45:00  Sub - Feeder F08  481.125        1        0        0   \n",
       "4  2020-07-27 01:00:00  Sub - Feeder F08  481.000        1        0        0   \n",
       "\n",
       "   label_4  \n",
       "0        0  \n",
       "1        0  \n",
       "2        0  \n",
       "3        0  \n",
       "4        0  "
      ]
     },
     "execution_count": 95,
     "metadata": {},
     "output_type": "execute_result"
    }
   ],
   "source": [
    "final1 = pd.get_dummies(data=final, columns=['label'])\n",
    "final1.head()"
   ]
  },
  {
   "cell_type": "code",
   "execution_count": 96,
   "id": "cdf9629c",
   "metadata": {},
   "outputs": [],
   "source": [
    "X_test = final1.drop(['time', 'Measure'], axis=1).values.astype('float32')\n",
    "y_test = final['label'].values.astype('float32')"
   ]
  },
  {
   "cell_type": "code",
   "execution_count": 97,
   "id": "ca50812d",
   "metadata": {},
   "outputs": [
    {
     "name": "stdout",
     "output_type": "stream",
     "text": [
      "(2688, 5)\n",
      "(2688,)\n"
     ]
    }
   ],
   "source": [
    "print(X_test.shape)\n",
    "print(y_test.shape)"
   ]
  },
  {
   "cell_type": "code",
   "execution_count": 98,
   "id": "c69eb047",
   "metadata": {},
   "outputs": [
    {
     "name": "stdout",
     "output_type": "stream",
     "text": [
      "224/224 [==============================] - 0s 702us/step\n"
     ]
    },
    {
     "data": {
      "text/plain": [
       "array([[0.99999994],\n",
       "       [0.99999994],\n",
       "       [0.99999994],\n",
       "       ...,\n",
       "       [1.        ],\n",
       "       [1.        ],\n",
       "       [1.        ]], dtype=float32)"
      ]
     },
     "execution_count": 98,
     "metadata": {},
     "output_type": "execute_result"
    }
   ],
   "source": [
    "model.predict(X_test, batch_size=12)"
   ]
  },
  {
   "cell_type": "code",
   "execution_count": 106,
   "id": "05358faf",
   "metadata": {},
   "outputs": [
    {
     "name": "stdout",
     "output_type": "stream",
     "text": [
      "224/224 [==============================] - 0s 718us/step\n"
     ]
    }
   ],
   "source": [
    "y_predict = model.predict(X_test, batch_size=12)"
   ]
  },
  {
   "cell_type": "code",
   "execution_count": 99,
   "id": "44c20b74",
   "metadata": {},
   "outputs": [],
   "source": [
    "from sklearn.metrics import confusion_matrix, f1_score"
   ]
  },
  {
   "cell_type": "code",
   "execution_count": 113,
   "id": "9f8bf25f",
   "metadata": {},
   "outputs": [
    {
     "name": "stdout",
     "output_type": "stream",
     "text": [
      "(2688, 1)\n",
      "(2688,)\n"
     ]
    }
   ],
   "source": [
    "print(y_predict.shape)\n",
    "print(y_test.shape)"
   ]
  },
  {
   "cell_type": "code",
   "execution_count": null,
   "id": "86aeb780",
   "metadata": {},
   "outputs": [],
   "source": [
    "def take_path():\n",
    "    return test_set = pd.read_csv('test_data/test_data/test_Body_AHU.csv')"
   ]
  }
 ],
 "metadata": {
  "kernelspec": {
   "display_name": "Python 3 (ipykernel)",
   "language": "python",
   "name": "python3"
  },
  "language_info": {
   "codemirror_mode": {
    "name": "ipython",
    "version": 3
   },
   "file_extension": ".py",
   "mimetype": "text/x-python",
   "name": "python",
   "nbconvert_exporter": "python",
   "pygments_lexer": "ipython3",
   "version": "3.10.10"
  }
 },
 "nbformat": 4,
 "nbformat_minor": 5
}
